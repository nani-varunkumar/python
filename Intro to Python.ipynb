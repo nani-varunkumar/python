{
 "cells": [
  {
   "cell_type": "markdown",
   "id": "a15ddc67",
   "metadata": {},
   "source": [
    "print(\"hello world\")"
   ]
  },
  {
   "cell_type": "code",
   "execution_count": 2,
   "id": "f44090bd",
   "metadata": {},
   "outputs": [
    {
     "name": "stdout",
     "output_type": "stream",
     "text": [
      "varun\n"
     ]
    }
   ],
   "source": [
    "print(\"varun\")"
   ]
  },
  {
   "cell_type": "code",
   "execution_count": 3,
   "id": "90b6c6be",
   "metadata": {},
   "outputs": [
    {
     "ename": "NameError",
     "evalue": "name 'Print' is not defined",
     "output_type": "error",
     "traceback": [
      "\u001b[1;31m---------------------------------------------------------------------------\u001b[0m",
      "\u001b[1;31mNameError\u001b[0m                                 Traceback (most recent call last)",
      "\u001b[1;32m~\\AppData\\Local\\Temp\\ipykernel_9520\\1280879780.py\u001b[0m in \u001b[0;36m<module>\u001b[1;34m\u001b[0m\n\u001b[1;32m----> 1\u001b[1;33m \u001b[0mPrint\u001b[0m\u001b[1;33m(\u001b[0m\u001b[1;34m\"hello\"\u001b[0m\u001b[1;33m)\u001b[0m\u001b[1;33m\u001b[0m\u001b[1;33m\u001b[0m\u001b[0m\n\u001b[0m",
      "\u001b[1;31mNameError\u001b[0m: name 'Print' is not defined"
     ]
    }
   ],
   "source": [
    "Print(\"hello\")"
   ]
  },
  {
   "cell_type": "markdown",
   "id": "8e05ead4",
   "metadata": {},
   "source": [
    "### Python is case-sensitive"
   ]
  },
  {
   "cell_type": "markdown",
   "id": "efdd6362",
   "metadata": {},
   "source": [
    "### learning python"
   ]
  },
  {
   "cell_type": "markdown",
   "id": "601e31cd",
   "metadata": {},
   "source": [
    "#### ajfhishfwa fwbf"
   ]
  },
  {
   "cell_type": "markdown",
   "id": "88c7f358",
   "metadata": {},
   "source": [
    "##### ljkfshviupebfui\n"
   ]
  },
  {
   "cell_type": "markdown",
   "id": "c32483c7",
   "metadata": {},
   "source": [
    "## varun is a good boy"
   ]
  },
  {
   "cell_type": "code",
   "execution_count": 4,
   "id": "048a2af0",
   "metadata": {},
   "outputs": [
    {
     "ename": "NameError",
     "evalue": "name 'varun' is not defined",
     "output_type": "error",
     "traceback": [
      "\u001b[1;31m---------------------------------------------------------------------------\u001b[0m",
      "\u001b[1;31mNameError\u001b[0m                                 Traceback (most recent call last)",
      "\u001b[1;32m~\\AppData\\Local\\Temp\\ipykernel_9520\\2252801438.py\u001b[0m in \u001b[0;36m<module>\u001b[1;34m\u001b[0m\n\u001b[1;32m----> 1\u001b[1;33m \u001b[0mprint\u001b[0m\u001b[1;33m(\u001b[0m\u001b[0mvarun\u001b[0m\u001b[1;33m)\u001b[0m\u001b[1;33m\u001b[0m\u001b[1;33m\u001b[0m\u001b[0m\n\u001b[0m",
      "\u001b[1;31mNameError\u001b[0m: name 'varun' is not defined"
     ]
    }
   ],
   "source": [
    "print(varun)"
   ]
  },
  {
   "cell_type": "code",
   "execution_count": 5,
   "id": "b7d46433",
   "metadata": {},
   "outputs": [
    {
     "name": "stdout",
     "output_type": "stream",
     "text": [
      "10\n"
     ]
    }
   ],
   "source": [
    "print(10)"
   ]
  },
  {
   "cell_type": "code",
   "execution_count": 6,
   "id": "2f4cd5a9",
   "metadata": {},
   "outputs": [
    {
     "name": "stdout",
     "output_type": "stream",
     "text": [
      "nani\n"
     ]
    }
   ],
   "source": [
    "print('nani')"
   ]
  },
  {
   "cell_type": "markdown",
   "id": "bc81e3e9",
   "metadata": {},
   "source": [
    "### String(text) should be in inverted comma"
   ]
  },
  {
   "cell_type": "markdown",
   "id": "a10f903a",
   "metadata": {},
   "source": [
    "## Shortcut Keys"
   ]
  },
  {
   "cell_type": "code",
   "execution_count": 7,
   "id": "05912192",
   "metadata": {},
   "outputs": [
    {
     "name": "stdout",
     "output_type": "stream",
     "text": [
      "1\n"
     ]
    }
   ],
   "source": [
    "print(1)"
   ]
  },
  {
   "cell_type": "markdown",
   "id": "19a87c64",
   "metadata": {},
   "source": [
    "### Run-> Shift+Enter\n",
    "### Add a cell above->a\n",
    "### Add a cell below->b\n",
    "### Delete a cell->x"
   ]
  },
  {
   "cell_type": "code",
   "execution_count": 9,
   "id": "855e6721",
   "metadata": {},
   "outputs": [
    {
     "data": {
      "text/plain": [
       "int"
      ]
     },
     "execution_count": 9,
     "metadata": {},
     "output_type": "execute_result"
    }
   ],
   "source": [
    "x=10\n",
    "type(x)"
   ]
  },
  {
   "cell_type": "code",
   "execution_count": 10,
   "id": "700ac4be",
   "metadata": {},
   "outputs": [
    {
     "data": {
      "text/plain": [
       "float"
      ]
     },
     "execution_count": 10,
     "metadata": {},
     "output_type": "execute_result"
    }
   ],
   "source": [
    "z=10.5\n",
    "type(z)"
   ]
  },
  {
   "cell_type": "code",
   "execution_count": 12,
   "id": "6cc924b6",
   "metadata": {},
   "outputs": [
    {
     "data": {
      "text/plain": [
       "str"
      ]
     },
     "execution_count": 12,
     "metadata": {},
     "output_type": "execute_result"
    }
   ],
   "source": [
    "course=\"AI\"\n",
    "type(course)"
   ]
  },
  {
   "cell_type": "markdown",
   "id": "e2bfbf70",
   "metadata": {},
   "source": [
    "### Variables"
   ]
  },
  {
   "cell_type": "code",
   "execution_count": 14,
   "id": "e966503f",
   "metadata": {},
   "outputs": [
    {
     "data": {
      "text/plain": [
       "('DS', 'BA', 'ML')"
      ]
     },
     "execution_count": 14,
     "metadata": {},
     "output_type": "execute_result"
    }
   ],
   "source": [
    "coursenames=\"DS\",\"BA\",\"ML\"\n",
    "coursenames"
   ]
  },
  {
   "cell_type": "code",
   "execution_count": 15,
   "id": "9468bd9f",
   "metadata": {},
   "outputs": [
    {
     "ename": "SyntaxError",
     "evalue": "invalid syntax (3781394567.py, line 1)",
     "output_type": "error",
     "traceback": [
      "\u001b[1;36m  File \u001b[1;32m\"C:\\Users\\user\\AppData\\Local\\Temp\\ipykernel_9520\\3781394567.py\"\u001b[1;36m, line \u001b[1;32m1\u001b[0m\n\u001b[1;33m    course names=\"DS\",\"BA\",\"ML\"\u001b[0m\n\u001b[1;37m           ^\u001b[0m\n\u001b[1;31mSyntaxError\u001b[0m\u001b[1;31m:\u001b[0m invalid syntax\n"
     ]
    }
   ],
   "source": [
    "course names=\"DS\",\"BA\",\"ML\"\n",
    "course names"
   ]
  },
  {
   "cell_type": "code",
   "execution_count": 16,
   "id": "66afe93b",
   "metadata": {},
   "outputs": [
    {
     "ename": "SyntaxError",
     "evalue": "cannot assign to operator (3858547134.py, line 1)",
     "output_type": "error",
     "traceback": [
      "\u001b[1;36m  File \u001b[1;32m\"C:\\Users\\user\\AppData\\Local\\Temp\\ipykernel_9520\\3858547134.py\"\u001b[1;36m, line \u001b[1;32m1\u001b[0m\n\u001b[1;33m    course-names=\"DS\",\"BA\",\"ML\"\u001b[0m\n\u001b[1;37m    ^\u001b[0m\n\u001b[1;31mSyntaxError\u001b[0m\u001b[1;31m:\u001b[0m cannot assign to operator\n"
     ]
    }
   ],
   "source": [
    "course-names=\"DS\",\"BA\",\"ML\"\n",
    "course-names"
   ]
  },
  {
   "cell_type": "code",
   "execution_count": 17,
   "id": "4a3a3aec",
   "metadata": {},
   "outputs": [
    {
     "ename": "SyntaxError",
     "evalue": "cannot assign to operator (3005169660.py, line 1)",
     "output_type": "error",
     "traceback": [
      "\u001b[1;36m  File \u001b[1;32m\"C:\\Users\\user\\AppData\\Local\\Temp\\ipykernel_9520\\3005169660.py\"\u001b[1;36m, line \u001b[1;32m1\u001b[0m\n\u001b[1;33m    course+names=\"DS\",\"BA\",\"ML\"\u001b[0m\n\u001b[1;37m    ^\u001b[0m\n\u001b[1;31mSyntaxError\u001b[0m\u001b[1;31m:\u001b[0m cannot assign to operator\n"
     ]
    }
   ],
   "source": [
    "course+names=\"DS\",\"BA\",\"ML\"\n",
    "course+names"
   ]
  },
  {
   "cell_type": "code",
   "execution_count": 19,
   "id": "7dbb832c",
   "metadata": {},
   "outputs": [
    {
     "data": {
      "text/plain": [
       "('DS', 'BA', 'ML')"
      ]
     },
     "execution_count": 19,
     "metadata": {},
     "output_type": "execute_result"
    }
   ],
   "source": [
    "course_names3=\"DS\",\"BA\",\"ML\"\n",
    "course_names"
   ]
  },
  {
   "cell_type": "markdown",
   "id": "441e7aee",
   "metadata": {},
   "source": [
    "#### Space is not allowed\n",
    "#### the only allowed spl character is underscore \n",
    "#### variable name should not start with a number"
   ]
  },
  {
   "cell_type": "markdown",
   "id": "77407da9",
   "metadata": {},
   "source": [
    "### it should start with A-Z,a-z or underscore"
   ]
  },
  {
   "cell_type": "code",
   "execution_count": null,
   "id": "fb0c66e4",
   "metadata": {},
   "outputs": [],
   "source": []
  }
 ],
 "metadata": {
  "kernelspec": {
   "display_name": "Python 3 (ipykernel)",
   "language": "python",
   "name": "python3"
  },
  "language_info": {
   "codemirror_mode": {
    "name": "ipython",
    "version": 3
   },
   "file_extension": ".py",
   "mimetype": "text/x-python",
   "name": "python",
   "nbconvert_exporter": "python",
   "pygments_lexer": "ipython3",
   "version": "3.9.13"
  }
 },
 "nbformat": 4,
 "nbformat_minor": 5
}
